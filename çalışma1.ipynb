{
 "cells": [
  {
   "cell_type": "code",
   "execution_count": null,
   "id": "initial_id",
   "metadata": {
    "collapsed": true,
    "is_executing": true
   },
   "outputs": [],
   "source": [
    "import cv2\n",
    "print(\"Package Imported\")"
   ]
  },
  {
   "cell_type": "markdown",
   "id": "f8fe06d1",
   "metadata": {},
   "source": [
    "# Open Photos"
   ]
  },
  {
   "cell_type": "code",
   "execution_count": 2,
   "id": "2864d824",
   "metadata": {},
   "outputs": [],
   "source": [
    "img = cv2.imread(\"Resources/lena.png\")"
   ]
  },
  {
   "cell_type": "code",
   "execution_count": 2,
   "id": "de4af375",
   "metadata": {},
   "outputs": [
    {
     "ename": "NameError",
     "evalue": "name 'img' is not defined",
     "output_type": "error",
     "traceback": [
      "\u001B[1;31m---------------------------------------------------------------------------\u001B[0m",
      "\u001B[1;31mNameError\u001B[0m                                 Traceback (most recent call last)",
      "\u001B[1;32mc:\\Users\\erim\\OneDrive\\Masaüstü\\Baykar\\OpenCv\\çalışma1.ipynb Cell 3\u001B[0m line \u001B[0;36m1\n\u001B[1;32m----> <a href='vscode-notebook-cell:/c%3A/Users/erim/OneDrive/Masa%C3%BCst%C3%BC/Baykar/OpenCv/%C3%A7al%C4%B1%C5%9Fma1.ipynb#W2sZmlsZQ%3D%3D?line=0'>1</a>\u001B[0m cv2\u001B[39m.\u001B[39mimshow(\u001B[39m\"\u001B[39m\u001B[39mOutput\u001B[39m\u001B[39m\"\u001B[39m,img) \u001B[39m# takes 2 arguments, first one is the name of the window, second one is the image\u001B[39;00m\n\u001B[0;32m      <a href='vscode-notebook-cell:/c%3A/Users/erim/OneDrive/Masa%C3%BCst%C3%BC/Baykar/OpenCv/%C3%A7al%C4%B1%C5%9Fma1.ipynb#W2sZmlsZQ%3D%3D?line=1'>2</a>\u001B[0m cv2\u001B[39m.\u001B[39mwaitKey(\u001B[39m0\u001B[39m) \u001B[39m# 0 means infinite time, if you put 1000 it will wait 1 second\u001B[39;00m\n",
      "\u001B[1;31mNameError\u001B[0m: name 'img' is not defined"
     ]
    }
   ],
   "source": [
    "cv2.imshow(\"Output\",img) # takes 2 arguments, first one is the name of the window, second one is the image\n",
    "cv2.waitKey(0) # 0 means infinite time, if you put 1000 it will wait 1 second"
   ]
  },
  {
   "cell_type": "markdown",
   "id": "3e71a296",
   "metadata": {},
   "source": [
    "# Open Videos"
   ]
  },
  {
   "cell_type": "code",
   "execution_count": 8,
   "id": "8f722aab",
   "metadata": {},
   "outputs": [
    {
     "ename": "",
     "evalue": "",
     "output_type": "error",
     "traceback": [
      "\u001B[1;31mThe Kernel crashed while executing code in the the current cell or a previous cell. Please review the code in the cell(s) to identify a possible cause of the failure. Click <a href='https://aka.ms/vscodeJupyterKernelCrash'>here</a> for more info. View Jupyter <a href='command:jupyter.viewOutput'>log</a> for further details."
     ]
    }
   ],
   "source": [
    "cap = cv2.VideoCapture(\"Resources/test_video.mp4\")\n",
    "\n",
    "while True:\n",
    "    success, img = cap.read()\n",
    "    cv2.imshow(\"Video\",img)\n",
    "    if cv2.waitKey(1) & 0xFF == ord(\"q\"):\n",
    "        break"
   ]
  },
  {
   "cell_type": "code",
   "execution_count": null,
   "id": "a54fa6f0",
   "metadata": {},
   "outputs": [],
   "source": []
  }
 ],
 "metadata": {
  "kernelspec": {
   "display_name": "Python 3",
   "language": "python",
   "name": "python3"
  },
  "language_info": {
   "codemirror_mode": {
    "name": "ipython",
    "version": 3
   },
   "file_extension": ".py",
   "mimetype": "text/x-python",
   "name": "python",
   "nbconvert_exporter": "python",
   "pygments_lexer": "ipython3",
   "version": "3.11.3"
  }
 },
 "nbformat": 4,
 "nbformat_minor": 5
}
