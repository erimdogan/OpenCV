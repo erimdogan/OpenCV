{
 "cells": [
  {
   "cell_type": "markdown",
   "source": [
    "# Joining Images"
   ],
   "metadata": {
    "collapsed": false
   },
   "id": "c58028764606da3c"
  },
  {
   "cell_type": "code",
   "execution_count": 1,
   "id": "initial_id",
   "metadata": {
    "collapsed": true,
    "ExecuteTime": {
     "end_time": "2023-10-23T14:22:12.233723800Z",
     "start_time": "2023-10-23T14:22:12.152090100Z"
    }
   },
   "outputs": [],
   "source": [
    "import cv2\n",
    "import numpy as np"
   ]
  },
  {
   "cell_type": "code",
   "execution_count": 3,
   "outputs": [
    {
     "data": {
      "text/plain": "-1"
     },
     "execution_count": 3,
     "metadata": {},
     "output_type": "execute_result"
    }
   ],
   "source": [
    "\n",
    "img = cv2.imread(\"Resources/lena.png\")\n",
    "\n",
    "imgHor = np.hstack((img, img))\n",
    "\n",
    "cv2.imshow(\"Horizontal\", imgHor)\n",
    "cv2.waitKey(0)\n"
   ],
   "metadata": {
    "collapsed": false,
    "ExecuteTime": {
     "end_time": "2023-10-23T14:22:31.650496200Z",
     "start_time": "2023-10-23T14:22:30.449611600Z"
    }
   },
   "id": "aeaffc4e63b5fd81"
  },
  {
   "cell_type": "code",
   "execution_count": 4,
   "outputs": [
    {
     "data": {
      "text/plain": "-1"
     },
     "execution_count": 4,
     "metadata": {},
     "output_type": "execute_result"
    }
   ],
   "source": [
    "imgVer = np.vstack((img, img))\n",
    "\n",
    "cv2.imshow(\"Vertical\", imgVer)\n",
    "cv2.waitKey(0)"
   ],
   "metadata": {
    "collapsed": false,
    "ExecuteTime": {
     "end_time": "2023-10-23T14:33:56.201006100Z",
     "start_time": "2023-10-23T14:33:54.126041800Z"
    }
   },
   "id": "8902cafe5413b2d7"
  }
 ],
 "metadata": {
  "kernelspec": {
   "display_name": "Python 3",
   "language": "python",
   "name": "python3"
  },
  "language_info": {
   "codemirror_mode": {
    "name": "ipython",
    "version": 2
   },
   "file_extension": ".py",
   "mimetype": "text/x-python",
   "name": "python",
   "nbconvert_exporter": "python",
   "pygments_lexer": "ipython2",
   "version": "2.7.6"
  }
 },
 "nbformat": 4,
 "nbformat_minor": 5
}
